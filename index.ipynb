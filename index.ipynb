{
 "cells": [
  {
   "cell_type": "code",
   "execution_count": 1,
   "metadata": {},
   "outputs": [],
   "source": [
    "%matplotlib widget\n",
    "\n",
    "import sys\n",
    "import pathlib\n",
    "sys.path.insert(0, str(pathlib.Path('dipole_sim').absolute()))\n",
    "\n",
    "import mne\n",
    "import nilearn.image\n",
    "import matplotlib.pyplot as plt\n",
    "\n",
    "from dipole_sim.app import App\n",
    "\n",
    "data_path = pathlib.Path('data')\n",
    "fwd_path = data_path / 'fwd'\n",
    "subjects_dir = data_path / 'subjects'\n",
    "subject = 'sample'\n",
    "\n",
    "evoked_fname = data_path / 'sample-ave.fif'\n",
    "evoked = mne.read_evokeds(evoked_fname, verbose='warning')[0]\n",
    "evoked.pick_types(meg=True, eeg=True)\n",
    "\n",
    "with evoked.info._unlock():\n",
    "    evoked.info.projs = []\n",
    "\n",
    "evoked.info['bads'] = []\n",
    "del evoked_fname\n",
    "\n",
    "t1_fname = str(subjects_dir / subject / 'mri' / 'T1.mgz')\n",
    "t1_img = nilearn.image.load_img(t1_fname)\n",
    "del t1_fname\n",
    "\n",
    "trans_fname = data_path / 'sample-trans.fif'\n",
    "head_to_mri_t = mne.read_trans(trans_fname)\n",
    "del trans_fname"
   ]
  },
  {
   "cell_type": "code",
   "execution_count": 2,
   "metadata": {},
   "outputs": [
    {
     "data": {
      "application/vnd.jupyter.widget-view+json": {
       "model_id": "83c6459253ab4bb9bfac7bb84aece885",
       "version_major": 2,
       "version_minor": 0
      },
      "text/plain": [
       "VBox(children=(HTML(value='<h2>Dipole Simulator</h2>'), Accordion(children=(HTML(value='<ul><li>Select the des…"
      ]
     },
     "metadata": {},
     "output_type": "display_data"
    }
   ],
   "source": [
    "plt.ioff()\n",
    "app = App(evoked=evoked,\n",
    "          t1_img=t1_img,\n",
    "          trans=head_to_mri_t)\n",
    "app.display()"
   ]
  }
 ],
 "metadata": {
  "kernelspec": {
   "display_name": "Python 3 (ipykernel)",
   "language": "python",
   "name": "python3"
  },
  "language_info": {
   "codemirror_mode": {
    "name": "ipython",
    "version": 3
   },
   "file_extension": ".py",
   "mimetype": "text/x-python",
   "name": "python",
   "nbconvert_exporter": "python",
   "pygments_lexer": "ipython3",
   "version": "3.10.4"
  },
  "vscode": {
   "interpreter": {
    "hash": "489811116a909212dbbb83646832f5bff633ac3509b744331f6f97ca57895541"
   }
  }
 },
 "nbformat": 4,
 "nbformat_minor": 4
}
